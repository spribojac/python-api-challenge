{
 "cells": [
  {
   "cell_type": "code",
   "execution_count": 1,
   "id": "fa92ca92",
   "metadata": {},
   "outputs": [],
   "source": [
    "# Dependencies and Setup\n",
    "import matplotlib.pyplot as plt\n",
    "import pandas as pd\n",
    "import datetime\n",
    "import numpy as np\n",
    "import requests\n",
    "import json\n",
    "import time\n",
    "from scipy.stats import linregress\n",
    "\n",
    "# Impor the OpenWeatherMap API key\n",
    "from api_keys import weather_api_key\n",
    "\n",
    "# Import citipy to determine the cities based on latitude and longitude\n",
    "from citipy import citipy"
   ]
  },
  {
   "cell_type": "code",
   "execution_count": 2,
   "id": "53655592",
   "metadata": {},
   "outputs": [
    {
     "name": "stdout",
     "output_type": "stream",
     "text": [
      "Number of cities in the list: 596\n"
     ]
    }
   ],
   "source": [
    "# Empty list for holding the latitude and longitude combinations\n",
    "lat_lngs = []\n",
    "\n",
    "# Empty list for holding the cities names\n",
    "cities = []\n",
    "\n",
    "# Range of latitudes and longitudes\n",
    "lat_range = (-90, 90)\n",
    "lng_range = (-180, 180)\n",
    "\n",
    "# Create a set of random lat and lng combinations\n",
    "lats = np.random.uniform(lat_range[0], lat_range[1], size=1500)\n",
    "lngs = np.random.uniform(lng_range[0], lng_range[1], size=1500)\n",
    "lat_lngs = zip(lats, lngs)\n",
    "\n",
    "# Identify nearest city for each lat, lng combination\n",
    "for lat_lng in lat_lngs:\n",
    "    city = citipy.nearest_city(lat_lng[0], lat_lng[1]).city_name\n",
    "    \n",
    "    # If the city is unique, then add it to a our cities list\n",
    "    if city not in cities:\n",
    "        cities.append(city)\n",
    "\n",
    "# Print the city count to confirm sufficient count\n",
    "print(f\"Number of cities in the list: {len(cities)}\")"
   ]
  },
  {
   "cell_type": "code",
   "execution_count": 5,
   "id": "29eb5717",
   "metadata": {},
   "outputs": [
    {
     "name": "stdout",
     "output_type": "stream",
     "text": [
      "Beginning Data Retrieval     \n",
      "-----------------------------\n",
      "[\n",
      "    {\n",
      "        \"City\": \"worcester\",\n",
      "        \"Cloudiness\": 0,\n",
      "        \"Country\": \"US\",\n",
      "        \"Date\": 1694790559,\n",
      "        \"Humidity\": 73,\n",
      "        \"Lat\": 42.3334,\n",
      "        \"Lng\": -71.8328,\n",
      "        \"Max Temp\": 290.49,\n",
      "        \"Wind Speed\": 5.14\n",
      "    },\n",
      "    {\n",
      "        \"City\": \"sydney\",\n",
      "        \"Cloudiness\": 2,\n",
      "        \"Country\": \"AU\",\n",
      "        \"Date\": 1694790511,\n",
      "        \"Humidity\": 64,\n",
      "        \"Lat\": -33.8679,\n",
      "        \"Lng\": 151.2073,\n",
      "        \"Max Temp\": 292.81,\n",
      "        \"Wind Speed\": 3.09\n",
      "    },\n",
      "    {\n",
      "        \"City\": \"boston\",\n",
      "        \"Cloudiness\": 75,\n",
      "        \"Country\": \"US\",\n",
      "        \"Date\": 1694790467,\n",
      "        \"Humidity\": 69,\n",
      "        \"Lat\": 42.3584,\n",
      "        \"Lng\": -71.0598,\n",
      "        \"Max Temp\": 292.32,\n",
      "        \"Wind Speed\": 8.75\n",
      "    },\n",
      "    {\n",
      "        \"City\": \"delhi\",\n",
      "        \"Cloudiness\": 40,\n",
      "        \"Country\": \"IN\",\n",
      "        \"Date\": 1694790333,\n",
      "        \"Humidity\": 79,\n",
      "        \"Lat\": 28.6667,\n",
      "        \"Lng\": 77.2167,\n",
      "        \"Max Temp\": 303.2,\n",
      "        \"Wind Speed\": 1.54\n",
      "    }\n",
      "]\n",
      "-----------------------------\n",
      "Data Retrieval Complete      \n",
      "-----------------------------\n"
     ]
    }
   ],
   "source": [
    "# Define an empty list to fetch the weather data for each city\n",
    "city_data = []\n",
    "cities = ['worcester', 'sydney', 'boston', 'delhi']\n",
    "\n",
    "# Print to logger\n",
    "print(\"Beginning Data Retrieval     \")\n",
    "print(\"-----------------------------\")\n",
    "\n",
    "for city in cities:\n",
    "# Create endpoint URL with each city\n",
    "    city_url = f\"https://api.openweathermap.org/data/2.5/weather?q={city}&appid={weather_api_key}\"\n",
    "    \n",
    "    # Parse the JSON and retrieve data\n",
    "    city_weather = requests.get(city_url).json()\n",
    "\n",
    "    # Parse out latitude, longitude, max temp, humidity, cloudiness, wind speed, country, and date\n",
    "    city_lat = city_weather['coord']['lat']\n",
    "    city_lng = city_weather['coord']['lon']\n",
    "    city_max_temp = city_weather['main']['temp_max']\n",
    "    city_humidity = city_weather['main']['humidity']\n",
    "    city_clouds = city_weather['clouds']['all']\n",
    "    city_wind = city_weather['wind']['speed']\n",
    "    city_country = city_weather['sys']['country']\n",
    "    city_date = (city_weather['dt'])\n",
    "\n",
    "    # Append the City information into city_data list\n",
    "    city_data.append({\"City\": city, \n",
    "                    \"Lat\": city_lat, \n",
    "                    \"Lng\": city_lng, \n",
    "                    \"Max Temp\": city_max_temp,\n",
    "                    \"Humidity\": city_humidity,\n",
    "                    \"Cloudiness\": city_clouds,\n",
    "                    \"Wind Speed\": city_wind,\n",
    "                    \"Country\": city_country,\n",
    "                    \"Date\": city_date})\n",
    "\n",
    "print(json.dumps(city_data, indent=4, sort_keys=True))\n",
    "\n",
    "# Indicate that Data Loading is complete \n",
    "print(\"-----------------------------\")\n",
    "print(\"Data Retrieval Complete      \")\n",
    "print(\"-----------------------------\")"
   ]
  },
  {
   "cell_type": "code",
   "execution_count": 7,
   "id": "8c56737a",
   "metadata": {},
   "outputs": [
    {
     "name": "stdout",
     "output_type": "stream",
     "text": [
      "[{'City': 'worcester', 'Lat': 42.3334, 'Lng': -71.8328, 'Max Temp': 290.49, 'Humidity': 73, 'Cloudiness': 0, 'Wind Speed': 5.14, 'Country': 'US', 'Date': 1694790559}, {'City': 'sydney', 'Lat': -33.8679, 'Lng': 151.2073, 'Max Temp': 292.81, 'Humidity': 64, 'Cloudiness': 2, 'Wind Speed': 3.09, 'Country': 'AU', 'Date': 1694790511}, {'City': 'boston', 'Lat': 42.3584, 'Lng': -71.0598, 'Max Temp': 292.32, 'Humidity': 69, 'Cloudiness': 75, 'Wind Speed': 8.75, 'Country': 'US', 'Date': 1694790467}, {'City': 'delhi', 'Lat': 28.6667, 'Lng': 77.2167, 'Max Temp': 303.2, 'Humidity': 79, 'Cloudiness': 40, 'Wind Speed': 1.54, 'Country': 'IN', 'Date': 1694790333}]\n"
     ]
    }
   ],
   "source": [
    "city_data_df = pd.DataFrame(city_data)\n",
    "print(city_data)"
   ]
  },
  {
   "cell_type": "code",
   "execution_count": null,
   "id": "0972a1fe",
   "metadata": {},
   "outputs": [],
   "source": []
  }
 ],
 "metadata": {
  "kernelspec": {
   "display_name": "Python 3 (ipykernel)",
   "language": "python",
   "name": "python3"
  },
  "language_info": {
   "codemirror_mode": {
    "name": "ipython",
    "version": 3
   },
   "file_extension": ".py",
   "mimetype": "text/x-python",
   "name": "python",
   "nbconvert_exporter": "python",
   "pygments_lexer": "ipython3",
   "version": "3.11.4"
  }
 },
 "nbformat": 4,
 "nbformat_minor": 5
}
